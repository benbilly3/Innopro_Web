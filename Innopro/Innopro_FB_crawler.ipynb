{
 "cells": [
  {
   "cell_type": "code",
   "execution_count": 7,
   "metadata": {},
   "outputs": [],
   "source": [
    "from selenium import webdriver\n",
    "from selenium.webdriver.common.keys import Keys\n",
    "from selenium.common.exceptions import NoSuchElementException, StaleElementReferenceException\n",
    "\n",
    "from datetime import datetime\n",
    "\n",
    "import pandas as pd\n",
    "import time\n",
    "import math\n",
    "import os\n",
    "import re\n",
    "import random\n",
    "import pickle\n",
    "\n",
    "from tqdm import tqdm\n",
    "\n",
    "from Innopro.config import facebook_account, facebook_password\n",
    "from util import loginToFacebook, initBrowser, getPostLinks, getPostOrderData\n",
    "from tqdm import tqdm\n",
    "import time,random,os,requests\n",
    "import pandas as pd\n",
    "import json"
   ]
  },
  {
   "cell_type": "code",
   "execution_count": 2,
   "metadata": {},
   "outputs": [],
   "source": [
    "def InnoproFBCrawler(groupUrl, keywords, groupName, year, month):\n",
    "    startTime = time.time()\n",
    "    # 設定 pandas col 顯示字數\n",
    "    pd.set_option('max_colwidth',512)\n",
    "    currentPath = currentPath = os.getcwd()\n",
    "    \n",
    "    if not os.path.exists(currentPath+\"/Innopro_crawl_data/\"):\n",
    "            os.mkdir(\"Innopro_crawl_data\")\n",
    "    \n",
    "    if not os.path.exists(currentPath+\"/Innopro_crawl_data/{}\".format(groupName)):\n",
    "            os.mkdir(\"Innopro_crawl_data/{}\".format(groupName))\n",
    "    \n",
    "    if not os.path.exists(currentPath+\"/Innopro_crawl_data/{}/{}{}\".format(groupName, str(year), str(month))):\n",
    "        os.mkdir(\"Innopro_crawl_data/{}/{}{}\".format(groupName, str(year), str(month)))\n",
    "\n",
    "    browser = initBrowser()\n",
    "    \n",
    "    loginToFacebook(browser, facebook_account, facebook_password)\n",
    "    \n",
    "    time.sleep(5)\n",
    "    postDatas = getPostLinks(browser,\n",
    "                            groupUrl = groupUrl,\n",
    "                            keywords = keywords)\n",
    "    \n",
    "    postDatas.to_csv('{}/Innopro_crawl_data/{}/{}{}/{}_{}{}_allitems.csv'.format(currentPath,groupName,str(year),str(month),groupName,str(year),str(month)))\n",
    "    print('post datas saved as {}_{}{}_allitems.csv'.format(groupName,str(year),str(month)))\n",
    "    \n",
    "    print('processing each post content')\n",
    "    time.sleep(0.5)\n",
    "    \n",
    "    postLinks = postDatas['link'].values.tolist()\n",
    "    pbar = tqdm(postLinks)    \n",
    "\n",
    "    for index, link in enumerate(pbar):\n",
    "        \n",
    "        pbar.set_description('processing: {}th post content'.format(index))\n",
    "        try:\n",
    "            df, year, month, wine_id = getPostOrderData(browser, link, postDatas)\n",
    "            if(len(str(month))==1):\n",
    "                month = '0' + str(month)\n",
    "            df.to_csv('{}/Innopro_crawl_data/{}/{}{}/{}_{}{}_{}.csv'.format(currentPath,groupName,str(year),str(month),groupName,str(year),str(month),str(wine_id)))\n",
    "    \n",
    "        except Exception as e:\n",
    "            print('processing {}th post in postdatas'.format(index))\n",
    "            print(e)\n",
    "        \n",
    "        time.sleep(1)\n",
    "    \n",
    "    postDatas.to_csv('{}/Innopro_crawl_data/{}/{}{}/{}_{}{}_allitems.csv'.format(currentPath,groupName,str(year),str(month),groupName,str(year),str(month)))\n",
    "    print('post datas updated HTML and saved as {}_{}{}_allitems.csv'.format(groupName,str(year),str(month)))\n",
    "\n",
    "    elapsed_time = time.time() - startTime\n",
    "    elapsed_time_str = time.strftime(\"%H:%M:%S\", time.gmtime(elapsed_time))\n",
    "    print('finished, cost {}.'.format(elapsed_time_str))\n",
    "    browser.close()"
   ]
  },
  {
   "cell_type": "code",
   "execution_count": 16,
   "metadata": {},
   "outputs": [],
   "source": [
    "# 爬按讚名單\n",
    "\n",
    "def InnoproFBLikeCrawler(groupUrl, keywords, groupName, year, month):\n",
    "    startTime = time.time()\n",
    "    # 設定 pandas col 顯示字數\n",
    "    pd.set_option('max_colwidth',512)\n",
    "    currentPath = currentPath = os.getcwd()\n",
    "    \n",
    "    if not os.path.exists(currentPath+\"/Innopro_crawl_data/\"):\n",
    "            os.mkdir(\"Innopro_crawl_data\")\n",
    "    \n",
    "    if not os.path.exists(currentPath+\"/Innopro_crawl_data/{}\".format(groupName)):\n",
    "            os.mkdir(\"Innopro_crawl_data/{}\".format(groupName))\n",
    "    \n",
    "    if not os.path.exists(currentPath+\"/Innopro_crawl_data/{}/{}{}\".format(groupName, str(year), str(month))):\n",
    "        os.mkdir(\"Innopro_crawl_data/{}/{}{}\".format(groupName, str(year), str(month)))\n",
    "\n",
    "    browser = initBrowser()\n",
    "    \n",
    "    loginToFacebook(browser, facebook_account, facebook_password)\n",
    "    \n",
    "    time.sleep(5)\n",
    "    postDatas = getPostLinks(browser,\n",
    "                            groupUrl = groupUrl,\n",
    "                            keywords = keywords)\n",
    "    \n",
    "    postDatas.to_csv(f'{currentPath}/Innopro_crawl_data/{groupName}/{str(year)}{str(month)}/{groupName}_{str(year)}{str(month)}_allitems.csv')\n",
    "    print('post datas saved as {}_{}{}_allitems.csv'.format(groupName,str(year),str(month)))\n",
    "    \n",
    "    print('processing each post content')\n",
    "    time.sleep(0.5)\n",
    "    \n",
    "    postLinks = postDatas['link'].values.tolist()\n",
    "    wineIds = postDatas['item_id'].values.tolist()\n",
    "    pbar = tqdm(postLinks)\n",
    "\n",
    "    for index, link in enumerate(pbar):\n",
    "        \n",
    "        pbar.set_description(f'processing: {index}th post content')\n",
    "        try:\n",
    "            df = getPostLikes(browser, link)\n",
    "            wine_id = wineIds[index]\n",
    "            df.to_csv(f'{currentPath}/Innopro_crawl_data/{groupName}/{year}{month}/{groupName}_{year}{month}_{str(wine_id)}.csv')\n",
    "    \n",
    "        except Exception as e:\n",
    "            print('processing {}th post in postdatas'.format(index))\n",
    "            print(e)\n",
    "        \n",
    "        time.sleep(1)\n",
    "\n",
    "    elapsed_time = time.time() - startTime\n",
    "    elapsed_time_str = time.strftime(\"%H:%M:%S\", time.gmtime(elapsed_time))\n",
    "    print('finished, cost {}.'.format(elapsed_time_str))\n",
    "    browser.close()"
   ]
  },
  {
   "cell_type": "code",
   "execution_count": null,
   "metadata": {},
   "outputs": [],
   "source": []
  },
  {
   "cell_type": "code",
   "execution_count": null,
   "metadata": {},
   "outputs": [],
   "source": []
  },
  {
   "cell_type": "markdown",
   "metadata": {},
   "source": [
    "# Testing"
   ]
  },
  {
   "cell_type": "code",
   "execution_count": 4,
   "metadata": {},
   "outputs": [],
   "source": [
    "# InnoproFBCrawler(\n",
    "#     groupUrl= 'https://www.facebook.com/groups/1993881810669370/',\n",
    "#     keywords='2019/8',\n",
    "#     groupName='查李王',\n",
    "#     year = '2019',\n",
    "#     month = '08'\n",
    "# )"
   ]
  },
  {
   "cell_type": "code",
   "execution_count": 39,
   "metadata": {},
   "outputs": [],
   "source": [
    "# InnoproFBCrawler(\n",
    "#     groupUrl= 'https://www.facebook.com/groups/TDa.BuyWine/?ref=bookmarks',\n",
    "#     keywords='2019/8月',\n",
    "#     groupName='Tda',\n",
    "#     year = '2019',\n",
    "#     month = '08'\n",
    "# )"
   ]
  },
  {
   "cell_type": "code",
   "execution_count": 2,
   "metadata": {},
   "outputs": [],
   "source": [
    "pd.options.display.max_colwidth = 999"
   ]
  },
  {
   "cell_type": "code",
   "execution_count": 3,
   "metadata": {},
   "outputs": [
    {
     "name": "stdout",
     "output_type": "stream",
     "text": [
      "logging in to fb\n",
      "You already logged in\n"
     ]
    }
   ],
   "source": [
    "browser = initBrowser()\n",
    "loginToFacebook(browser, facebook_account, facebook_password)"
   ]
  },
  {
   "cell_type": "code",
   "execution_count": 4,
   "metadata": {},
   "outputs": [
    {
     "name": "stdout",
     "output_type": "stream",
     "text": [
      "scrolling posts\n",
      "clicking see more buttons\n",
      "removing non-selling posts\n",
      "processing all item's information\n"
     ]
    }
   ],
   "source": [
    "groupUrl = 'https://www.facebook.com/groups/TDa.BuyWine/?ref=bookmarks'\n",
    "keywords = '2019/9'\n",
    "\n",
    "postData = getPostLinks(browser, groupUrl, keywords)"
   ]
  },
  {
   "cell_type": "code",
   "execution_count": 9,
   "metadata": {},
   "outputs": [],
   "source": [
    "# postData"
   ]
  },
  {
   "cell_type": "code",
   "execution_count": 15,
   "metadata": {},
   "outputs": [],
   "source": [
    "browser.close()"
   ]
  },
  {
   "cell_type": "code",
   "execution_count": 20,
   "metadata": {},
   "outputs": [],
   "source": [
    "# InnoproFBLikeCrawler(groupUrl, keywords, 'Tda', '2019', '09')"
   ]
  },
  {
   "cell_type": "code",
   "execution_count": null,
   "metadata": {},
   "outputs": [],
   "source": []
  },
  {
   "cell_type": "code",
   "execution_count": null,
   "metadata": {},
   "outputs": [],
   "source": []
  },
  {
   "cell_type": "markdown",
   "metadata": {},
   "source": [
    "# Debug"
   ]
  },
  {
   "cell_type": "code",
   "execution_count": 8,
   "metadata": {},
   "outputs": [],
   "source": [
    "# with pd.option_context('display.max_rows', None, 'display.max_columns', None):  # more options can be specified also\n",
    "#     print(df)"
   ]
  },
  {
   "cell_type": "code",
   "execution_count": 10,
   "metadata": {},
   "outputs": [],
   "source": [
    "# pd.concat(g for _, g in df.groupby(\"fbuid\") if len(g) > 1)"
   ]
  },
  {
   "cell_type": "code",
   "execution_count": 2,
   "metadata": {
    "scrolled": false
   },
   "outputs": [],
   "source": [
    "browser = initBrowser()"
   ]
  },
  {
   "cell_type": "code",
   "execution_count": 3,
   "metadata": {},
   "outputs": [
    {
     "name": "stdout",
     "output_type": "stream",
     "text": [
      "logging in to fb\n",
      "login success\n",
      "cookies updated\n"
     ]
    }
   ],
   "source": [
    "loginToFacebook(browser, facebook_account, facebook_password)"
   ]
  },
  {
   "cell_type": "code",
   "execution_count": null,
   "metadata": {},
   "outputs": [],
   "source": []
  },
  {
   "cell_type": "code",
   "execution_count": 22,
   "metadata": {},
   "outputs": [],
   "source": [
    "browser.close()"
   ]
  },
  {
   "cell_type": "markdown",
   "metadata": {},
   "source": [
    "# Development"
   ]
  },
  {
   "cell_type": "code",
   "execution_count": 2,
   "metadata": {},
   "outputs": [
    {
     "name": "stdout",
     "output_type": "stream",
     "text": [
      "logging in to fb\n",
      "login success\n",
      "cookies updated\n"
     ]
    }
   ],
   "source": [
    "browser = initBrowser()\n",
    "loginToFacebook(browser,facebook_account,facebook_password)"
   ]
  },
  {
   "cell_type": "code",
   "execution_count": null,
   "metadata": {},
   "outputs": [],
   "source": []
  },
  {
   "cell_type": "code",
   "execution_count": null,
   "metadata": {},
   "outputs": [],
   "source": []
  },
  {
   "cell_type": "code",
   "execution_count": null,
   "metadata": {},
   "outputs": [],
   "source": []
  },
  {
   "cell_type": "code",
   "execution_count": null,
   "metadata": {},
   "outputs": [],
   "source": []
  },
  {
   "cell_type": "code",
   "execution_count": 40,
   "metadata": {},
   "outputs": [],
   "source": [
    "Tda_all = pd.read_csv('Innopro_crawl_data/Tda/201908/Tda_201908_allitems.csv')"
   ]
  },
  {
   "cell_type": "code",
   "execution_count": null,
   "metadata": {},
   "outputs": [],
   "source": []
  },
  {
   "cell_type": "markdown",
   "metadata": {},
   "source": [
    "## 按讚爬蟲"
   ]
  },
  {
   "cell_type": "code",
   "execution_count": 11,
   "metadata": {},
   "outputs": [],
   "source": [
    "def getPostLikes(browser,link):\n",
    "    browser.get(link)\n",
    "    df = pd.DataFrame(columns=['username','fbuid'])\n",
    "    try:\n",
    "        firstRecEl = browser.find_element_by_xpath(\n",
    "            \"//a[contains(@href,'/ufi/reaction/profile/browser/') and contains(@ajaxify,'/ufi/reaction/profile/dialog')]\")\n",
    "        url = firstRecEl.get_attribute('href')\n",
    "        browser.get(url)\n",
    "    except Exception as e:\n",
    "        if NoSuchElementException:\n",
    "            print('this post has no like')\n",
    "            return df\n",
    "        else:\n",
    "            print(e)\n",
    "    \n",
    "    isLikesLoaded = False\n",
    "\n",
    "    while(isLikesLoaded == False):\n",
    "        try:\n",
    "            # scroll to btn position\n",
    "            seeMoreBtn = browser.find_element_by_xpath(\n",
    "                \"//a[contains(@href,'ufi/reaction/profile/browser/fetch/?limit=50&reaction_type=1')]\")\n",
    "            seeMoreBtnOffsetY = seeMoreBtn.location['y'] - 300\n",
    "            browser.execute_script(\n",
    "                \"window.scrollTo(0, {});\".format(seeMoreBtnOffsetY))\n",
    "            seeMoreBtn.click()\n",
    "            time.sleep(2)\n",
    "        except Exception as e :\n",
    "            if NoSuchElementException:\n",
    "                isLikesLoaded = True\n",
    "                print('All likes loaded')\n",
    "            else:\n",
    "                print(e)\n",
    "                isLikesLoaded = True\n",
    "\n",
    "    likeLis = browser.find_element_by_xpath(\"//ul[@id='reaction_profile_browser1']\").find_elements_by_tag_name('li')\n",
    "\n",
    "    for index, li in enumerate(likeLis):\n",
    "        userATag = li.find_element_by_xpath(\".//a[contains(@href,'facebook.com') and contains(@data-gt,'eng_tid')]\")\n",
    "        user_data = json.loads(userATag.get_attribute('data-gt'))\n",
    "        fbuid = user_data['engagement']['eng_tid']\n",
    "        fbname = userATag.text\n",
    "        df.loc[index] = (fbname, fbuid)\n",
    "    return df"
   ]
  },
  {
   "cell_type": "code",
   "execution_count": 13,
   "metadata": {},
   "outputs": [
    {
     "name": "stdout",
     "output_type": "stream",
     "text": [
      "All likes loaded\n"
     ]
    }
   ],
   "source": [
    "link = 'https://www.facebook.com/groups/TDa.BuyWine/permalink/2456362977974827/'\n",
    "\n",
    "df = getPostLikes(browser,link)"
   ]
  },
  {
   "cell_type": "code",
   "execution_count": 14,
   "metadata": {},
   "outputs": [
    {
     "data": {
      "text/html": [
       "<div>\n",
       "<style scoped>\n",
       "    .dataframe tbody tr th:only-of-type {\n",
       "        vertical-align: middle;\n",
       "    }\n",
       "\n",
       "    .dataframe tbody tr th {\n",
       "        vertical-align: top;\n",
       "    }\n",
       "\n",
       "    .dataframe thead th {\n",
       "        text-align: right;\n",
       "    }\n",
       "</style>\n",
       "<table border=\"1\" class=\"dataframe\">\n",
       "  <thead>\n",
       "    <tr style=\"text-align: right;\">\n",
       "      <th></th>\n",
       "      <th>username</th>\n",
       "      <th>fbuid</th>\n",
       "    </tr>\n",
       "  </thead>\n",
       "  <tbody>\n",
       "    <tr>\n",
       "      <th>0</th>\n",
       "      <td>Marvin Liang</td>\n",
       "      <td>1047741629</td>\n",
       "    </tr>\n",
       "    <tr>\n",
       "      <th>1</th>\n",
       "      <td>陳瀚翔</td>\n",
       "      <td>100000302659885</td>\n",
       "    </tr>\n",
       "    <tr>\n",
       "      <th>2</th>\n",
       "      <td>王銘</td>\n",
       "      <td>100001472858771</td>\n",
       "    </tr>\n",
       "    <tr>\n",
       "      <th>3</th>\n",
       "      <td>Lin Jheng-wei</td>\n",
       "      <td>100000128328345</td>\n",
       "    </tr>\n",
       "    <tr>\n",
       "      <th>4</th>\n",
       "      <td>Ivan Ku</td>\n",
       "      <td>100000144592474</td>\n",
       "    </tr>\n",
       "    <tr>\n",
       "      <th>5</th>\n",
       "      <td>Bernice Lin</td>\n",
       "      <td>1074545854</td>\n",
       "    </tr>\n",
       "    <tr>\n",
       "      <th>6</th>\n",
       "      <td>楊震</td>\n",
       "      <td>100013674664569</td>\n",
       "    </tr>\n",
       "    <tr>\n",
       "      <th>7</th>\n",
       "      <td>Gary Chang</td>\n",
       "      <td>100002724731620</td>\n",
       "    </tr>\n",
       "    <tr>\n",
       "      <th>8</th>\n",
       "      <td>Mercy Chang</td>\n",
       "      <td>100001677004076</td>\n",
       "    </tr>\n",
       "    <tr>\n",
       "      <th>9</th>\n",
       "      <td>Jasmin Lin</td>\n",
       "      <td>653639740</td>\n",
       "    </tr>\n",
       "    <tr>\n",
       "      <th>10</th>\n",
       "      <td>Austin Huang</td>\n",
       "      <td>627628435</td>\n",
       "    </tr>\n",
       "    <tr>\n",
       "      <th>11</th>\n",
       "      <td>魏辰澔</td>\n",
       "      <td>100000112875940</td>\n",
       "    </tr>\n",
       "    <tr>\n",
       "      <th>12</th>\n",
       "      <td>趙小莫</td>\n",
       "      <td>100002218253304</td>\n",
       "    </tr>\n",
       "    <tr>\n",
       "      <th>13</th>\n",
       "      <td>Nawa Oki</td>\n",
       "      <td>100000173149858</td>\n",
       "    </tr>\n",
       "    <tr>\n",
       "      <th>14</th>\n",
       "      <td>Kevin Ahkai Chuang</td>\n",
       "      <td>1060862174</td>\n",
       "    </tr>\n",
       "    <tr>\n",
       "      <th>15</th>\n",
       "      <td>普國華</td>\n",
       "      <td>100000154700091</td>\n",
       "    </tr>\n",
       "    <tr>\n",
       "      <th>16</th>\n",
       "      <td>Alex Chun-Wei Kuo Chang</td>\n",
       "      <td>1402197858</td>\n",
       "    </tr>\n",
       "    <tr>\n",
       "      <th>17</th>\n",
       "      <td>Lucy Wang</td>\n",
       "      <td>632091289</td>\n",
       "    </tr>\n",
       "    <tr>\n",
       "      <th>18</th>\n",
       "      <td>Bai Xiao Bai</td>\n",
       "      <td>643760847</td>\n",
       "    </tr>\n",
       "    <tr>\n",
       "      <th>19</th>\n",
       "      <td>Tiffany Chen</td>\n",
       "      <td>731339216</td>\n",
       "    </tr>\n",
       "  </tbody>\n",
       "</table>\n",
       "</div>"
      ],
      "text/plain": [
       "                   username            fbuid\n",
       "0              Marvin Liang       1047741629\n",
       "1                       陳瀚翔  100000302659885\n",
       "2                        王銘  100001472858771\n",
       "3             Lin Jheng-wei  100000128328345\n",
       "4                   Ivan Ku  100000144592474\n",
       "5               Bernice Lin       1074545854\n",
       "6                        楊震  100013674664569\n",
       "7                Gary Chang  100002724731620\n",
       "8               Mercy Chang  100001677004076\n",
       "9                Jasmin Lin        653639740\n",
       "10             Austin Huang        627628435\n",
       "11                      魏辰澔  100000112875940\n",
       "12                      趙小莫  100002218253304\n",
       "13                 Nawa Oki  100000173149858\n",
       "14       Kevin Ahkai Chuang       1060862174\n",
       "15                      普國華  100000154700091\n",
       "16  Alex Chun-Wei Kuo Chang       1402197858\n",
       "17                Lucy Wang        632091289\n",
       "18             Bai Xiao Bai        643760847\n",
       "19             Tiffany Chen        731339216"
      ]
     },
     "execution_count": 14,
     "metadata": {},
     "output_type": "execute_result"
    }
   ],
   "source": [
    "df"
   ]
  },
  {
   "cell_type": "code",
   "execution_count": 12,
   "metadata": {},
   "outputs": [
    {
     "name": "stdout",
     "output_type": "stream",
     "text": [
      "logging in to fb\n",
      "You already logged in\n"
     ]
    }
   ],
   "source": [
    "browser = initBrowser()\n",
    "loginToFacebook(browser,facebook_account,facebook_password)"
   ]
  },
  {
   "cell_type": "code",
   "execution_count": 16,
   "metadata": {},
   "outputs": [],
   "source": [
    "browser.close()"
   ]
  },
  {
   "cell_type": "code",
   "execution_count": 14,
   "metadata": {},
   "outputs": [
    {
     "name": "stdout",
     "output_type": "stream",
     "text": [
      "this post has no like\n"
     ]
    }
   ],
   "source": [
    "# 商品頁面 -> 表情頁面\n",
    "\n",
    "try:\n",
    "    firstRecEl = browser.find_element_by_xpath(\n",
    "        \"//a[contains(@href,'/ufi/reaction/profile/browser/') and contains(@ajaxify,'/ufi/reaction/profile/dialog')]\")\n",
    "    url = firstRecEl.get_attribute('href')\n",
    "    browser.get(url)\n",
    "except Exception as e:\n",
    "    if NoSuchElementException:\n",
    "        print('this post has no like')\n",
    "    else:\n",
    "        print(e)\n"
   ]
  },
  {
   "cell_type": "code",
   "execution_count": 155,
   "metadata": {},
   "outputs": [],
   "source": [
    "browser.get(url)"
   ]
  },
  {
   "cell_type": "code",
   "execution_count": null,
   "metadata": {},
   "outputs": [],
   "source": []
  },
  {
   "cell_type": "code",
   "execution_count": 5,
   "metadata": {},
   "outputs": [
    {
     "name": "stdout",
     "output_type": "stream",
     "text": [
      "All likes loaded\n"
     ]
    }
   ],
   "source": [
    "from selenium.common.exceptions import NoSuchElementException, StaleElementReferenceException\n",
    "# 點擊所有的 likes \n",
    "# reaction_type=1 是 like 的部分\n",
    "\n",
    "isLikesLoaded = False\n",
    "\n",
    "while(isLikesLoaded == False):\n",
    "    try:\n",
    "        # scroll to btn position\n",
    "        seeMoreBtn = browser.find_element_by_xpath(\n",
    "            \"//a[contains(@href,'ufi/reaction/profile/browser/fetch/?limit=50&reaction_type=1')]\")\n",
    "        seeMoreBtnOffsetY = seeMoreBtn.location['y'] - 300\n",
    "        browser.execute_script(\n",
    "            \"window.scrollTo(0, {});\".format(seeMoreBtnOffsetY))\n",
    "        seeMoreBtn.click()\n",
    "        time.sleep(2)\n",
    "    except Exception as e :\n",
    "        if NoSuchElementException:\n",
    "            isLikesLoaded = True\n",
    "            print('All likes loaded')\n",
    "        else:\n",
    "            print(e)\n",
    "            isLikesLoaded = True"
   ]
  },
  {
   "cell_type": "code",
   "execution_count": 6,
   "metadata": {},
   "outputs": [],
   "source": [
    "members = []\n",
    "likeLis = browser.find_element_by_xpath(\"//ul[@id='reaction_profile_browser1']\").find_elements_by_tag_name('li')"
   ]
  },
  {
   "cell_type": "code",
   "execution_count": 7,
   "metadata": {},
   "outputs": [],
   "source": []
  },
  {
   "cell_type": "code",
   "execution_count": 8,
   "metadata": {},
   "outputs": [],
   "source": [
    "for li in likeLis:\n",
    "    userATag = li.find_element_by_xpath(\".//a[contains(@href,'facebook.com') and contains(@data-gt,'eng_tid')]\")\n",
    "    user_data = json.loads(userATag.get_attribute('data-gt'))\n",
    "    fbuid = user_data['engagement']['eng_tid']\n",
    "    fbname = userATag.text\n",
    "    userData = {\n",
    "        'name': fbname,\n",
    "        'fbuid': fbuid\n",
    "    }\n",
    "    members.append(userData)\n",
    "    "
   ]
  },
  {
   "cell_type": "code",
   "execution_count": 9,
   "metadata": {},
   "outputs": [
    {
     "data": {
      "text/plain": [
       "[{'name': 'Ann Tai', 'fbuid': '1606418563'},\n",
       " {'name': '超級珍', 'fbuid': '100000538237440'},\n",
       " {'name': 'Jeng How Yang', 'fbuid': '1339020640'},\n",
       " {'name': 'Yin Yin', 'fbuid': '1565834616'},\n",
       " {'name': 'Leo Huang', 'fbuid': '526487238'},\n",
       " {'name': '洪健宸', 'fbuid': '620384067'},\n",
       " {'name': 'Gilbert Chou', 'fbuid': '1026160871'},\n",
       " {'name': 'Brian Chen', 'fbuid': '645075198'},\n",
       " {'name': 'Oliver Kuo', 'fbuid': '1583330471'},\n",
       " {'name': 'Max Kai', 'fbuid': '100000083754840'},\n",
       " {'name': 'Chi-chia Liao', 'fbuid': '100000571027497'},\n",
       " {'name': 'Angela Chan', 'fbuid': '100000107493063'},\n",
       " {'name': 'BoChong Lin', 'fbuid': '100000057417639'},\n",
       " {'name': 'Jason T. C. Huang', 'fbuid': '100000267283038'},\n",
       " {'name': '葉小緋', 'fbuid': '1649022688'},\n",
       " {'name': 'David Chen', 'fbuid': '100000175995702'},\n",
       " {'name': '黃森祈', 'fbuid': '100003984381168'},\n",
       " {'name': '何木子', 'fbuid': '100023378885583'},\n",
       " {'name': 'Tze-Hsun Yen', 'fbuid': '100001454714728'},\n",
       " {'name': 'Muncheberg Li', 'fbuid': '100000291371258'},\n",
       " {'name': 'Luis Chen', 'fbuid': '1488462161'},\n",
       " {'name': 'Huang James', 'fbuid': '100000147414482'},\n",
       " {'name': 'Jason Fan', 'fbuid': '1475721504'},\n",
       " {'name': 'Angel Lin', 'fbuid': '664778008'},\n",
       " {'name': '洪聖添', 'fbuid': '100001737804686'},\n",
       " {'name': 'Cody Chang', 'fbuid': '708369946'},\n",
       " {'name': 'Kate Pan', 'fbuid': '100000188417239'},\n",
       " {'name': 'Alex Tsai', 'fbuid': '1189074707'},\n",
       " {'name': 'Albert Tsai', 'fbuid': '1522720172'},\n",
       " {'name': 'Lucas Chang', 'fbuid': '100000855052836'},\n",
       " {'name': 'Ivan Chiu', 'fbuid': '1170867848'},\n",
       " {'name': '林思育', 'fbuid': '100006558136340'},\n",
       " {'name': '洪銘漢', 'fbuid': '100001108974617'},\n",
       " {'name': 'River Chen', 'fbuid': '100000218961088'},\n",
       " {'name': 'Tiffany Y. Tang', 'fbuid': '100000652053299'},\n",
       " {'name': 'Lucy Wang', 'fbuid': '632091289'},\n",
       " {'name': '許家誠', 'fbuid': '1806957261'},\n",
       " {'name': 'Nawa Oki', 'fbuid': '100000173149858'},\n",
       " {'name': 'Ruka Tay', 'fbuid': '100002611250305'},\n",
       " {'name': 'Paul Chan', 'fbuid': '100000380702074'},\n",
       " {'name': 'Meihui Lu', 'fbuid': '617110364'},\n",
       " {'name': 'Bruce Gcu', 'fbuid': '100004324839481'},\n",
       " {'name': '林建男', 'fbuid': '100003637908540'},\n",
       " {'name': 'Wecare Cheng', 'fbuid': '100003585985248'},\n",
       " {'name': 'John Tam', 'fbuid': '100002435691500'},\n",
       " {'name': '蔡彥宇', 'fbuid': '100002310347480'},\n",
       " {'name': 'Shih Tsung Lin', 'fbuid': '100002106424145'},\n",
       " {'name': 'Yi-Fan Yuan', 'fbuid': '100001901755893'},\n",
       " {'name': '黃偉誠', 'fbuid': '100001867197397'},\n",
       " {'name': 'Newman Smill', 'fbuid': '100001483540000'},\n",
       " {'name': 'Te Sheng Wang', 'fbuid': '100001298462834'},\n",
       " {'name': 'Tsai Hsiao Ting Tsai', 'fbuid': '100000504138298'},\n",
       " {'name': 'Ling-cheng Chao', 'fbuid': '100000491151244'},\n",
       " {'name': 'Yu-Ping Ku', 'fbuid': '100000471408196'},\n",
       " {'name': 'Clark Ku', 'fbuid': '100000428687936'},\n",
       " {'name': 'ChiaLin Teng', 'fbuid': '100000403492915'},\n",
       " {'name': 'Hsu Vin', 'fbuid': '100000335337219'},\n",
       " {'name': '黃鉦尹', 'fbuid': '100000185242888'},\n",
       " {'name': '黃紀淳', 'fbuid': '100000069679965'},\n",
       " {'name': 'Pauler Chen', 'fbuid': '100000069154468'},\n",
       " {'name': 'Bor Jia Kuo', 'fbuid': '100000038063868'},\n",
       " {'name': 'Cohibayeh Yeh', 'fbuid': '1778615496'},\n",
       " {'name': 'Lori Huang', 'fbuid': '1690890900'},\n",
       " {'name': 'Cliff Hsu', 'fbuid': '1686633762'},\n",
       " {'name': 'Notshrm Liao', 'fbuid': '1680338208'},\n",
       " {'name': 'Chieh Yu', 'fbuid': '1661635231'},\n",
       " {'name': '周柏亨', 'fbuid': '1661422976'},\n",
       " {'name': 'Richard Wang', 'fbuid': '1659032012'},\n",
       " {'name': 'Ryan Huang', 'fbuid': '1503133340'},\n",
       " {'name': 'Arthur Tsai', 'fbuid': '1468571579'},\n",
       " {'name': 'Annie Annie', 'fbuid': '1310303355'},\n",
       " {'name': '黃國彥', 'fbuid': '1256880475'},\n",
       " {'name': 'Boki Wu', 'fbuid': '1187937253'},\n",
       " {'name': 'Nini Lin', 'fbuid': '1159421737'},\n",
       " {'name': 'Ming Yang', 'fbuid': '1151941678'},\n",
       " {'name': '陳豪杉', 'fbuid': '1137553610'},\n",
       " {'name': 'Tommy Wang', 'fbuid': '1007231658'},\n",
       " {'name': 'Audrey Hsieh', 'fbuid': '720072143'},\n",
       " {'name': 'Yen Ting Lu', 'fbuid': '590470900'},\n",
       " {'name': 'Vincent Tk Kuo', 'fbuid': '36914827'}]"
      ]
     },
     "execution_count": 9,
     "metadata": {},
     "output_type": "execute_result"
    }
   ],
   "source": [
    "members"
   ]
  },
  {
   "cell_type": "code",
   "execution_count": 25,
   "metadata": {},
   "outputs": [],
   "source": [
    "li_one = lis[0]"
   ]
  },
  {
   "cell_type": "code",
   "execution_count": 28,
   "metadata": {},
   "outputs": [
    {
     "data": {
      "text/plain": [
       "'Williams Huang'"
      ]
     },
     "execution_count": 28,
     "metadata": {},
     "output_type": "execute_result"
    }
   ],
   "source": [
    "li_one.text"
   ]
  },
  {
   "cell_type": "code",
   "execution_count": 29,
   "metadata": {},
   "outputs": [],
   "source": [
    "userATag = li_one.find_element_by_xpath(\"//a[contains(@href,'facebook.com') and contains(@data-gt,'eng_tid')]\")"
   ]
  },
  {
   "cell_type": "code",
   "execution_count": 32,
   "metadata": {},
   "outputs": [],
   "source": [
    "user_data = userATag.get_attribute('data-gt')"
   ]
  },
  {
   "cell_type": "code",
   "execution_count": 33,
   "metadata": {},
   "outputs": [
    {
     "data": {
      "text/plain": [
       "'{\"engagement\":{\"eng_type\":\"1\",\"eng_src\":\"2\",\"eng_tid\":\"100008636311150\",\"eng_data\":[]}}'"
      ]
     },
     "execution_count": 33,
     "metadata": {},
     "output_type": "execute_result"
    }
   ],
   "source": [
    "user_data"
   ]
  },
  {
   "cell_type": "code",
   "execution_count": 34,
   "metadata": {},
   "outputs": [],
   "source": [
    "import json"
   ]
  },
  {
   "cell_type": "code",
   "execution_count": 35,
   "metadata": {},
   "outputs": [],
   "source": [
    "user_data = json.loads(user_data)"
   ]
  },
  {
   "cell_type": "code",
   "execution_count": 38,
   "metadata": {},
   "outputs": [
    {
     "data": {
      "text/plain": [
       "'100008636311150'"
      ]
     },
     "execution_count": 38,
     "metadata": {},
     "output_type": "execute_result"
    }
   ],
   "source": [
    "user_data['engagement']['eng_tid']"
   ]
  },
  {
   "cell_type": "code",
   "execution_count": 31,
   "metadata": {},
   "outputs": [
    {
     "data": {
      "text/plain": [
       "'Williams Huang'"
      ]
     },
     "execution_count": 31,
     "metadata": {},
     "output_type": "execute_result"
    }
   ],
   "source": [
    "userATag.text"
   ]
  },
  {
   "cell_type": "code",
   "execution_count": 12,
   "metadata": {},
   "outputs": [],
   "source": [
    "# \"//a[@data-testid='UFI2CommentsCount/root']\"\n",
    "#  //div[contains(@id,'sentence')]\n",
    "f = browser.find_element_by_xpath(\"//div[contains(@id,'sentence')]\")"
   ]
  },
  {
   "cell_type": "code",
   "execution_count": 15,
   "metadata": {},
   "outputs": [],
   "source": [
    "fa = f.find_element_by_tag_name('a')"
   ]
  },
  {
   "cell_type": "code",
   "execution_count": 18,
   "metadata": {},
   "outputs": [],
   "source": [
    "fa.click()"
   ]
  },
  {
   "cell_type": "code",
   "execution_count": 19,
   "metadata": {},
   "outputs": [],
   "source": [
    "load_more = browser.find_element_by_xpath(\"//div[contains(@class,'title') and contains(@class,'mfsm')]\")"
   ]
  },
  {
   "cell_type": "code",
   "execution_count": 20,
   "metadata": {},
   "outputs": [],
   "source": [
    "load_more.click()"
   ]
  },
  {
   "cell_type": "code",
   "execution_count": null,
   "metadata": {
    "collapsed": true
   },
   "outputs": [],
   "source": []
  },
  {
   "cell_type": "code",
   "execution_count": null,
   "metadata": {},
   "outputs": [],
   "source": []
  },
  {
   "cell_type": "markdown",
   "metadata": {},
   "source": [
    "## Tools"
   ]
  },
  {
   "cell_type": "markdown",
   "metadata": {},
   "source": [
    "### 結算表單"
   ]
  },
  {
   "cell_type": "code",
   "execution_count": null,
   "metadata": {},
   "outputs": [],
   "source": [
    "# df = pd.read_csv('Innopro_crawl_data/Tda/201908/Tda_201908_allitems.csv', index_col=0)\n",
    "# df = df.drop(\n",
    "#     columns='html')\n",
    "# df['total_order'] = 0\n",
    "# df['total_amount'] = 0\n",
    "\n",
    "# # 先清理多餘的資料\n",
    "\n",
    "# Tda_all_item_name = [file for file in os.listdir('Innopro_crawl_data/Tda/201908/') if 'Tda' in file and 'allitems' not in file]\n",
    "\n",
    "\n",
    "# for index, file_name in enumerate(Tda_all_item_name):\n",
    "#     print(index)    \n",
    "#     print('processing {}'.format(file_name))\n",
    "    \n",
    "#     current_df = pd.read_csv(\n",
    "#         'Innopro_crawl_data/Tda/201908/{}'.format(file_name), index_col=0)\n",
    "#     total_order = current_df['orderCount'].sum()\n",
    "    \n",
    "#     current_wine_id = file_name.split('_')[-1].split('.')[0]\n",
    "#     s = df.loc[df['item_id'] == int(current_wine_id)]\n",
    "#     price = s.price.values[0]\n",
    "\n",
    "#     total_amount = total_order*price\n",
    "    \n",
    "#     df.set_value(s.iloc[0].name, 'total_order', total_order)\n",
    "#     df.set_value(s.iloc[0].name, 'total_amount', total_amount)"
   ]
  },
  {
   "cell_type": "code",
   "execution_count": null,
   "metadata": {},
   "outputs": [],
   "source": []
  },
  {
   "cell_type": "markdown",
   "metadata": {},
   "source": [
    "# Notes\n",
    "\n",
    "## 爬取留言及購買資訊\n",
    "\n",
    "### 抓取 po 文內文\n",
    "\n",
    "```\n",
    "tag=browser.find_elements_by_tag_name('p')\n",
    "d=[]\n",
    "for i in range(len(tag)):\n",
    "    d.append(tag[i].text)\n",
    "print(d)\n",
    "```\n",
    "\n",
    "\n",
    "### data-* list:\n",
    "\n",
    "- comments 根元素: data-testid='UFI2CommentsList/root_depth_0'\n",
    "- 讀取更多 comments 按鈕: data-testid='UFI2CommentsPagerRenderer/pager_depth_0'\n",
    "\n",
    "### 使用Xpath 抓取 HTML5 [data-*]\n",
    "\n",
    "```\n",
    "loadCommentButton = browser.find_element_by_xpath(\"//a[@data-testid='UFI2CommentsPagerRenderer/pager_depth_0']\")\n",
    "```\n",
    "\n",
    "### 連續搜尋\n",
    "\n",
    "```\n",
    "driver.find_element_by_xpath(\"//elementType[@firstAttributeTypte = 'firstAttributeValue'][@secondAttributeType='secondAttributeValue'][@thirdAttributeType='thirdAttributeValue']....\");\n",
    "```"
   ]
  },
  {
   "cell_type": "code",
   "execution_count": 4,
   "metadata": {},
   "outputs": [],
   "source": [
    "# from selenium import webdriver\n",
    "# from selenium.webdriver.common.keys import Keys\n",
    "\n",
    "# from datetime import datetime\n",
    "\n",
    "# import pandas as pd\n",
    "# import time, math, os, re, random\n",
    "\n",
    "# from config import facebook_account, facebook_password\n",
    "\n",
    "# from selenium.webdriver.common.action_chains import ActionChains"
   ]
  },
  {
   "cell_type": "code",
   "execution_count": 2,
   "metadata": {},
   "outputs": [],
   "source": [
    "# def loginToFacebook(browser, email, password):\n",
    "#     facebook_url = 'https://www.facebook.com/'\n",
    "#     browser.get(facebook_url)\n",
    "#     time.sleep(3)\n",
    "#     #login\n",
    "#     search=browser.find_element_by_id('email')\n",
    "#     search.send_keys(email)#填mail\n",
    "#     time.sleep(3)\n",
    "#     search=browser.find_element_by_id('pass')\n",
    "#     search.send_keys(password)#填密碼\n",
    "#     search.send_keys(Keys.RETURN) # hit return after you enter search text,使用Keys物件功能"
   ]
  },
  {
   "cell_type": "code",
   "execution_count": 485,
   "metadata": {},
   "outputs": [],
   "source": [
    "# def getPostOrderData(browser, orderUrl):\n",
    "#     # 回傳：商品ID、Po文日期、爬文日期/時間\n",
    "#     # 所有留言的：用戶名稱、用戶facebookUrl、留言時間、訂單數量、留言原文\n",
    "#     browser.get(orderUrl) #進入商品貼文網址\n",
    "#     comments = pd.DataFrame(columns=['username','fbURL','commentTime','orderCount','commentContent'])\n",
    "\n",
    "#     totalCommentsCount = re.search(r'\\d+', browser.find_element_by_xpath(\"//a[@data-testid='UFI2CommentsCount/root']\").text).group()\n",
    "    \n",
    "#     time.sleep(3)\n",
    "    \n",
    "    \n",
    "#     # 若留言超過50則，需點開留言\n",
    "#     if int(totalCommentsCount) >50:\n",
    "#         pressTime = math.floor(int(totalCommentsCount)/50)\n",
    "#         loadCommentButton = browser.find_element_by_xpath(\"//a[@data-testid='UFI2CommentsPagerRenderer/pager_depth_0']\")\n",
    "#         loadCommentButton.location_once_scrolled_into_view\n",
    "#         browser.execute_script(\"window.scrollBy(0, 300);\")\n",
    "#         for i in range (pressTime):          \n",
    "#             try:\n",
    "#                 #browser.execute_script(\"window.scrollBy(0, -300);\")\n",
    "#                 loadCommentButton.click()\n",
    "#             except Exception as e:\n",
    "#                 print(e)\n",
    "#             time.sleep(0.5)\n",
    "\n",
    "\n",
    "#     #抓取留言資料\n",
    "#     comments_list = browser.find_element_by_xpath(\".//div[@data-testid='UFI2CommentsList/root_depth_0']\")\n",
    "#     comment_roots = comments_list.find_elements_by_xpath(\".//div[@data-testid='UFI2Comment/root_depth_0']\")\n",
    "    \n",
    "#     # FB 留言時間字串格式\n",
    "#     # https://docs.python.org/zh-cn/3/library/datetime.html#strftime-and-strptime-behavior\n",
    "#     datetime_format = \"%A, %B %d, %Y at %I:%M %p\"\n",
    "#     for index, comment_root in enumerate(comment_roots):\n",
    "        \n",
    "#         comment_body = comment_root.find_element_by_xpath(\".//div[@data-testid='UFI2Comment/body']\")\n",
    "#         username = comment_body.find_element_by_xpath(\".//a[contains(@data-hovercard,'')]\").text\n",
    "#         comment_content = comment_body.text.split(' ')[-1]\n",
    "#         order_count = comment_content.replace('+','').replace('＋','')\n",
    "#         fbUrl = comment_root.find_element_by_xpath(\".//a[contains(@href,'/')]\").get_attribute('href')\n",
    "        \n",
    "#         comment_time = comment_root.find_element_by_tag_name('abbr').get_attribute('data-tooltip-content')\n",
    "#         comment_time = datetime.strptime(comment_time, datetime_format)\n",
    "#         comments.loc[index] = (username,fbUrl,comment_time,order_count,comment_content)\n",
    "\n",
    "#     #有兩種形式\n",
    "#     if browser.find_elements_by_class_name('_3w8y')!=[]:\n",
    "#         tag = browser.find_elements_by_class_name('_3w8y')\n",
    "#     else:\n",
    "#         tag = browser.find_elements_by_tag_name('p')\n",
    "\n",
    "\n",
    "#     wine_main=[tag[i].text for i in range(len(tag))]#抓取商品內容主文\n",
    "#     #抓<p>標籤第一行的\"wineID\"\n",
    "#     index_data=wine_main[0]    \n",
    "#     wine_id=index_data[index_data.find(\"-\")+1:index_data.find(\">\")]\n",
    "#     comments[\"wineID\"]=wine_id\n",
    "\n",
    "#     #抓<p>標籤第一行的\"publishDate(團購發布年月)\"、\"crawlDate(爬取時間)\"\n",
    "#     year=index_data[1:5]\n",
    "#     month=index_data[index_data.find(\"/\")+1:index_data.find(\"月\")]\n",
    "#     publish_date = datetime.strptime(year+'-'+month, '%Y-%m')\n",
    "#     crawl_day=datetime.now().strftime('%Y-%m-%d %H:%M')\n",
    "\n",
    "#     comments[\"publishDate\"]=publish_date\n",
    "#     comments[\"crawlDate\"]=crawl_day\n",
    "\n",
    "#     #過濾掉非數字留言\n",
    "#     comments[\"orderCount\"]=comments[\"orderCount\"].apply(lambda s:pd.to_numeric(s,errors='coerce'))\n",
    "#     df = comments.dropna()\n",
    "#     df = df.groupby('fbURL', as_index=False).max()\n",
    "#     return df, year, month, wine_id"
   ]
  },
  {
   "cell_type": "markdown",
   "metadata": {},
   "source": [
    "# 抓取社團所有 Po 文資料"
   ]
  },
  {
   "cell_type": "code",
   "execution_count": 314,
   "metadata": {},
   "outputs": [],
   "source": [
    "# def getPostLinks(browser, groupUrl, keywords):\n",
    "\n",
    "#     browser.get(groupUrl)\n",
    "    \n",
    "#     #滾動到頁面底部\n",
    "#     # Get scroll height\n",
    "#     last_height = browser.execute_script(\"return document.body.scrollHeight\")\n",
    "\n",
    "#     while True:\n",
    "#         # Scroll down to bottom\n",
    "#         browser.execute_script(\"window.scrollTo(0, document.body.scrollHeight);\")\n",
    "\n",
    "#         # Wait to load page\n",
    "#         time.sleep(random.randint(1,3))\n",
    "\n",
    "#         # Calculate new scroll height and compare with last scroll height\n",
    "#         new_height = browser.execute_script(\"return document.body.scrollHeight\")\n",
    "#         if new_height == last_height:\n",
    "#             break\n",
    "#         last_height = new_height\n",
    "\n",
    "#     time.sleep(5)\n",
    "\n",
    "#     see_more_links = browser.find_elements_by_xpath('//span[@class=\"text_exposed_link\"]')\n",
    "\n",
    "#     for link in see_more_links:\n",
    "#         try:\n",
    "#             link.location_once_scrolled_into_view\n",
    "#             browser.execute_script(\"window.scrollBy(0, 500);\")\n",
    "#             time.sleep(0.5)\n",
    "#             link.click()\n",
    "#         except Exception as e:\n",
    "#             print(e)\n",
    "#         time.sleep(random.randint(1,3))\n",
    "        \n",
    "#     # get_attribute取出貼文超連結\n",
    "#     posts = browser.find_elements_by_xpath('//div[@class=\"_5pcr userContentWrapper\"]')\n",
    "    \n",
    "#     # 刪除非賣酒文的 po 文\n",
    "#     for index, post in enumerate(posts[:]):\n",
    "#         if keywords in post.text:\n",
    "#             pass\n",
    "#         else:\n",
    "#             posts.remove(post)\n",
    "            \n",
    "#     return posts"
   ]
  },
  {
   "cell_type": "code",
   "execution_count": 3,
   "metadata": {
    "scrolled": true
   },
   "outputs": [],
   "source": [
    "# postsdata = pd.DataFrame(columns=['item_id','year','month','item_name','link','price'])\n",
    "\n",
    "# for index,post in enumerate(posts):\n",
    "    \n",
    "#     link = post.find_element_by_class_name('_5pcq').get_attribute('href')\n",
    "#     post_preview = post.text\n",
    "#     post_preview = post_preview.replace('：',':').replace(' ','')\n",
    "#     item_name = post_preview[post_preview.find(\"酒名:\")+3:post_preview.find(\"\\n\",post_preview.find(\"酒名:\"))]\n",
    "#     price = post_preview[post_preview.find(\"NT$\")+3:post_preview.find(\"\\n\",post_preview.find(\"NT$\"))]\n",
    "\n",
    "#     item_id = post_preview[post_preview.find(\"-\")+1:post_preview.find(\">\")]\n",
    "#     year = post_preview[post_preview.find(\"<\")+1:post_preview.find(\"/\")]\n",
    "#     month = post_preview[post_preview.find(\"/\")+1:post_preview.find(\"月\")]\n",
    "    \n",
    "#     postsdata.loc[index] = (item_id, year, month, item_name, link, price)"
   ]
  },
  {
   "cell_type": "code",
   "execution_count": 1,
   "metadata": {},
   "outputs": [],
   "source": [
    "# for index, row in postsdata.iterrows():\n",
    "#     print(index)\n",
    "#     try:\n",
    "#         df, year, month, wine_id = getPostOrderData(browser, row['link'])\n",
    "#         df.to_csv('查李王_201907_'+str(wine_id)+'.csv')\n",
    "#     except Exception as e:\n",
    "#         print(e)\n",
    "\n",
    "#     time.sleep(random.randint(3,5))"
   ]
  },
  {
   "cell_type": "code",
   "execution_count": 83,
   "metadata": {},
   "outputs": [],
   "source": [
    "html = browser.find_element_by_id('contentArea').get_attribute('innerHTML')"
   ]
  },
  {
   "cell_type": "code",
   "execution_count": 137,
   "metadata": {},
   "outputs": [],
   "source": []
  },
  {
   "cell_type": "code",
   "execution_count": null,
   "metadata": {},
   "outputs": [],
   "source": []
  }
 ],
 "metadata": {
  "kernelspec": {
   "display_name": "Python 3",
   "language": "python",
   "name": "python3"
  },
  "language_info": {
   "codemirror_mode": {
    "name": "ipython",
    "version": 3
   },
   "file_extension": ".py",
   "mimetype": "text/x-python",
   "name": "python",
   "nbconvert_exporter": "python",
   "pygments_lexer": "ipython3",
   "version": "3.7.3"
  }
 },
 "nbformat": 4,
 "nbformat_minor": 2
}
