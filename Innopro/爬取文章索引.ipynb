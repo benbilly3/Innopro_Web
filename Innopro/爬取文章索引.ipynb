{
 "cells": [
  {
   "cell_type": "code",
   "execution_count": 1,
   "metadata": {},
   "outputs": [],
   "source": [
    "from selenium import webdriver\n",
    "from selenium.webdriver.common.keys import Keys\n",
    "from selenium.common.exceptions import NoSuchElementException, StaleElementReferenceException\n",
    "\n",
    "from config import facebook_account, facebook_password\n",
    "from util import loginToFacebook, initBrowser, getPostLinks, getPostOrderData"
   ]
  },
  {
   "cell_type": "code",
   "execution_count": 2,
   "metadata": {},
   "outputs": [],
   "source": [
    "from fbCrawler.models import (Product, Members, Orders, Helper, Session, Group, Checkout)\n",
    "from fbCrawler.utils import *\n",
    "\n",
    "import pandas as pd\n",
    "import os, json,time, math,re,random,pickle,requests\n",
    "from tqdm import tqdm\n",
    "\n",
    "from datetime import datetime\n",
    "from django.contrib.auth.models import User\n",
    "from django.utils import timezone\n",
    "from django.conf import settings\n",
    "from django.utils.timezone import make_aware\n",
    "from django.db.models import Q"
   ]
  },
  {
   "cell_type": "code",
   "execution_count": 3,
   "metadata": {},
   "outputs": [
    {
     "name": "stdout",
     "output_type": "stream",
     "text": [
      "logging in to fb\n",
      "You already logged in\n",
      "scrolling posts\n",
      "clicking see more buttons\n",
      "removing non-selling posts\n",
      "processing all item's information\n"
     ]
    }
   ],
   "source": [
    "browser = initBrowser()\n",
    "loginToFacebook(browser, facebook_account, facebook_password)\n",
    "\n",
    "groupUrl = 'https://www.facebook.com/groups/1667261116828377/'\n",
    "keywords = '2019/9月'\n",
    "postDatas = getPostLinks(browser,\n",
    "                        groupUrl = groupUrl,\n",
    "                        keywords = keywords)"
   ]
  },
  {
   "cell_type": "code",
   "execution_count": 5,
   "metadata": {},
   "outputs": [],
   "source": [
    "postDatas.to_csv('localDevDatas/Tda/201909/'+'itemsArticle.csv')"
   ]
  },
  {
   "cell_type": "code",
   "execution_count": 29,
   "metadata": {},
   "outputs": [],
   "source": [
    "browser.close()"
   ]
  },
  {
   "cell_type": "code",
   "execution_count": 6,
   "metadata": {},
   "outputs": [],
   "source": [
    "session_id = '20190911'\n",
    "currentSession = Session.objects.get(session_id = session_id)"
   ]
  },
  {
   "cell_type": "code",
   "execution_count": 8,
   "metadata": {},
   "outputs": [],
   "source": [
    "currentSessionProducts = Product.objects.filter(session = currentSession)"
   ]
  },
  {
   "cell_type": "code",
   "execution_count": 28,
   "metadata": {},
   "outputs": [
    {
     "name": "stdout",
     "output_type": "stream",
     "text": [
      "https://www.facebook.com/groups/1667261116828377/permalink/2376136245940857/\n",
      "https://www.facebook.com/groups/1667261116828377/permalink/2376136475940834/\n",
      "https://www.facebook.com/groups/1667261116828377/permalink/2376137262607422/\n",
      "https://www.facebook.com/groups/1667261116828377/permalink/2376137525940729/\n",
      "index 0 is out of bounds for axis 0 with size 0\n",
      "https://www.facebook.com/groups/1667261116828377/permalink/2376137809274034/\n",
      "https://www.facebook.com/groups/1667261116828377/permalink/2376138095940672/\n",
      "https://www.facebook.com/groups/1667261116828377/permalink/2376138322607316/\n",
      "https://www.facebook.com/groups/1667261116828377/permalink/2376138525940629/\n",
      "https://www.facebook.com/groups/1667261116828377/permalink/2376138775940604/\n",
      "https://www.facebook.com/groups/1667261116828377/permalink/2376139005940581/\n",
      "https://www.facebook.com/groups/1667261116828377/permalink/2376139212607227/\n",
      "https://www.facebook.com/groups/1667261116828377/permalink/2376139549273860/\n",
      "https://www.facebook.com/groups/1667261116828377/permalink/2376140075940474/\n",
      "https://www.facebook.com/groups/1667261116828377/permalink/2376140362607112/\n",
      "https://www.facebook.com/groups/1667261116828377/permalink/2376140579273757/\n",
      "https://www.facebook.com/groups/1667261116828377/permalink/2376140865940395/\n",
      "https://www.facebook.com/groups/1667261116828377/permalink/2376141429273672/\n",
      "https://www.facebook.com/groups/1667261116828377/permalink/2376132752607873/\n",
      "https://www.facebook.com/groups/1667261116828377/permalink/2376133032607845/\n",
      "https://www.facebook.com/groups/1667261116828377/permalink/2376133585941123/\n",
      "https://www.facebook.com/groups/1667261116828377/permalink/2376133939274421/\n",
      "https://www.facebook.com/groups/1667261116828377/permalink/2376134209274394/\n",
      "https://www.facebook.com/groups/1667261116828377/permalink/2376134409274374/\n",
      "https://www.facebook.com/groups/1667261116828377/permalink/2376134739274341/\n",
      "https://www.facebook.com/groups/1667261116828377/permalink/2376135299274285/\n",
      "https://www.facebook.com/groups/1667261116828377/permalink/2376135572607591/\n",
      "https://www.facebook.com/groups/1667261116828377/permalink/2376136022607546/\n",
      "https://www.facebook.com/groups/1667261116828377/permalink/2376121769275638/\n",
      "https://www.facebook.com/groups/1667261116828377/permalink/2376122219275593/\n",
      "https://www.facebook.com/groups/1667261116828377/permalink/2376122402608908/\n",
      "https://www.facebook.com/groups/1667261116828377/permalink/2376122632608885/\n",
      "https://www.facebook.com/groups/1667261116828377/permalink/2376122912608857/\n",
      "https://www.facebook.com/groups/1667261116828377/permalink/2376123282608820/\n",
      "https://www.facebook.com/groups/1667261116828377/permalink/2376123519275463/\n",
      "https://www.facebook.com/groups/1667261116828377/permalink/2376124692608679/\n",
      "https://www.facebook.com/groups/1667261116828377/permalink/2376124942608654/\n",
      "https://www.facebook.com/groups/1667261116828377/permalink/2376125175941964/\n",
      "https://www.facebook.com/groups/1667261116828377/permalink/2376125602608588/\n",
      "https://www.facebook.com/groups/1667261116828377/permalink/2376125949275220/\n",
      "https://www.facebook.com/groups/1667261116828377/permalink/2376126139275201/\n",
      "https://www.facebook.com/groups/1667261116828377/permalink/2376126409275174/\n",
      "https://www.facebook.com/groups/1667261116828377/permalink/2376126689275146/\n",
      "https://www.facebook.com/groups/1667261116828377/permalink/2376126909275124/\n",
      "https://www.facebook.com/groups/1667261116828377/permalink/2376127182608430/\n",
      "https://www.facebook.com/groups/1667261116828377/permalink/2376127425941739/\n",
      "https://www.facebook.com/groups/1667261116828377/permalink/2376127619275053/\n",
      "https://www.facebook.com/groups/1667261116828377/permalink/2376127862608362/\n",
      "https://www.facebook.com/groups/1667261116828377/permalink/2376128102608338/\n",
      "https://www.facebook.com/groups/1667261116828377/permalink/2376128365941645/\n",
      "https://www.facebook.com/groups/1667261116828377/permalink/2376128662608282/\n",
      "https://www.facebook.com/groups/1667261116828377/permalink/2376128859274929/\n",
      "https://www.facebook.com/groups/1667261116828377/permalink/2376129069274908/\n",
      "https://www.facebook.com/groups/1667261116828377/permalink/2376129289274886/\n",
      "https://www.facebook.com/groups/1667261116828377/permalink/2376129582608190/\n",
      "https://www.facebook.com/groups/1667261116828377/permalink/2376129885941493/\n",
      "https://www.facebook.com/groups/1667261116828377/permalink/2376130195941462/\n",
      "https://www.facebook.com/groups/1667261116828377/permalink/2376130469274768/\n",
      "https://www.facebook.com/groups/1667261116828377/permalink/2376130865941395/\n",
      "https://www.facebook.com/groups/1667261116828377/permalink/2376131465941335/\n",
      "https://www.facebook.com/groups/1667261116828377/permalink/2376131769274638/\n",
      "https://www.facebook.com/groups/1667261116828377/permalink/2376132022607946/\n",
      "https://www.facebook.com/groups/1667261116828377/permalink/2376132362607912/\n",
      "https://www.facebook.com/groups/1667261116828377/permalink/2376132575941224/\n"
     ]
    }
   ],
   "source": [
    "for product in currentSessionProducts:\n",
    "#     print(product.wine_id)\n",
    "    try:\n",
    "        link = postDatas[postDatas['item_id'] == product.wine_id].get_values()[0][4]\n",
    "        product.product_article_link = link\n",
    "        product.save()\n",
    "        print(link)\n",
    "    except Exception as e:\n",
    "        print(e)"
   ]
  },
  {
   "cell_type": "code",
   "execution_count": null,
   "metadata": {},
   "outputs": [],
   "source": []
  }
 ],
 "metadata": {
  "kernelspec": {
   "display_name": "Django Shell-Plus",
   "language": "python",
   "name": "django_extensions"
  },
  "language_info": {
   "codemirror_mode": {
    "name": "ipython",
    "version": 3
   },
   "file_extension": ".py",
   "mimetype": "text/x-python",
   "name": "python",
   "nbconvert_exporter": "python",
   "pygments_lexer": "ipython3",
   "version": "3.7.3"
  }
 },
 "nbformat": 4,
 "nbformat_minor": 2
}
